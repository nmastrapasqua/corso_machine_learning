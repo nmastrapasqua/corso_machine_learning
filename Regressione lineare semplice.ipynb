{
 "cells": [
  {
   "cell_type": "markdown",
   "id": "7fc62c4f",
   "metadata": {},
   "source": [
    "# Regressione Lineare Semplice"
   ]
  },
  {
   "cell_type": "markdown",
   "id": "54a7862f",
   "metadata": {},
   "source": [
    "Importiamo il dataset direttamente dalla repository ufficiale dell'UCI all'interno di un dataset.\n",
    "Trattandosi di una regressione lineare semplice utilizzeremo soltanto la proprietà collegata al numero di stanze (RM - colonna 5) per predirre il valore medio (MEDV - colonna 13). Le colonne del dataset sono divise da un numero variabile di spazi, in questi casi dobbiamo usare come separatore \\s+."
   ]
  },
  {
   "cell_type": "code",
   "execution_count": 2,
   "id": "dfa2e154",
   "metadata": {},
   "outputs": [
    {
     "data": {
      "text/html": [
       "<div>\n",
       "<style scoped>\n",
       "    .dataframe tbody tr th:only-of-type {\n",
       "        vertical-align: middle;\n",
       "    }\n",
       "\n",
       "    .dataframe tbody tr th {\n",
       "        vertical-align: top;\n",
       "    }\n",
       "\n",
       "    .dataframe thead th {\n",
       "        text-align: right;\n",
       "    }\n",
       "</style>\n",
       "<table border=\"1\" class=\"dataframe\">\n",
       "  <thead>\n",
       "    <tr style=\"text-align: right;\">\n",
       "      <th></th>\n",
       "      <th>RM</th>\n",
       "      <th>MEDV</th>\n",
       "    </tr>\n",
       "  </thead>\n",
       "  <tbody>\n",
       "    <tr>\n",
       "      <th>0</th>\n",
       "      <td>6.575</td>\n",
       "      <td>24.0</td>\n",
       "    </tr>\n",
       "    <tr>\n",
       "      <th>1</th>\n",
       "      <td>6.421</td>\n",
       "      <td>21.6</td>\n",
       "    </tr>\n",
       "    <tr>\n",
       "      <th>2</th>\n",
       "      <td>7.185</td>\n",
       "      <td>34.7</td>\n",
       "    </tr>\n",
       "    <tr>\n",
       "      <th>3</th>\n",
       "      <td>6.998</td>\n",
       "      <td>33.4</td>\n",
       "    </tr>\n",
       "    <tr>\n",
       "      <th>4</th>\n",
       "      <td>7.147</td>\n",
       "      <td>36.2</td>\n",
       "    </tr>\n",
       "  </tbody>\n",
       "</table>\n",
       "</div>"
      ],
      "text/plain": [
       "      RM  MEDV\n",
       "0  6.575  24.0\n",
       "1  6.421  21.6\n",
       "2  7.185  34.7\n",
       "3  6.998  33.4\n",
       "4  7.147  36.2"
      ]
     },
     "execution_count": 2,
     "metadata": {},
     "output_type": "execute_result"
    }
   ],
   "source": [
    "import numpy as np\n",
    "import pandas as pd\n",
    "boston = pd.read_csv(\"https://archive.ics.uci.edu/ml/machine-learning-databases/housing/housing.data\", \n",
    "                     sep='\\s+', usecols=[5,13], \n",
    "                     names=[\"RM\", \"MEDV\"])\n",
    "boston.head()"
   ]
  },
  {
   "cell_type": "code",
   "execution_count": 3,
   "id": "2519b338",
   "metadata": {},
   "outputs": [],
   "source": [
    "X = boston.drop(\"MEDV\", axis=1).values\n",
    "Y = boston[\"MEDV\"].values"
   ]
  },
  {
   "cell_type": "code",
   "execution_count": 4,
   "id": "24d1791e",
   "metadata": {},
   "outputs": [],
   "source": [
    "from sklearn.model_selection import train_test_split\n",
    "\n",
    "X_train, X_test, Y_train, Y_test = train_test_split(X, Y, test_size=0.3)\n",
    "\n",
    "from sklearn.linear_model import LinearRegression\n",
    "\n",
    "ll = LinearRegression()\n",
    "# costruisce il modello\n",
    "ll.fit(X_train, Y_train)\n",
    "# esegue la previsione\n",
    "Y_pred = ll.predict(X_test)"
   ]
  },
  {
   "cell_type": "code",
   "execution_count": 5,
   "id": "add08a7a",
   "metadata": {},
   "outputs": [
    {
     "data": {
      "text/plain": [
       "43.68161834009488"
      ]
     },
     "execution_count": 5,
     "metadata": {},
     "output_type": "execute_result"
    }
   ],
   "source": [
    "from sklearn.metrics import mean_squared_error\n",
    "\n",
    "mean_squared_error(Y_test, Y_pred)"
   ]
  },
  {
   "cell_type": "markdown",
   "id": "26bcd620",
   "metadata": {},
   "source": [
    "## Valutazione del modello"
   ]
  },
  {
   "cell_type": "markdown",
   "id": "8bda4b31",
   "metadata": {},
   "source": [
    "Introduciamo un ulteriore metrica per valutare il nostro modello: **il coefficente di determinazione (R^2)**.\n",
    "\n",
    "in pratica R^2 è una versione standardizzata del MSE che torna un punteggio compreso tra 0 e 1 per il train set, mentre per il test set può assumere anche valori negativi. \n",
    "**NOTA BENE** R^2 non è una funzione di costo, ma di punteggio, un valore di 1 vuol dire che la predizione del modello è sempre corretta ( cosa improbabile in casi reali ). Quindi tanto più vicino ad 1 è l'R2 tanto migliore è il modello.\n",
    "* **R2_score < 0.3** il modello è inutile.\n",
    "* **0.3 < R2_score < 0.5** il modello è scarso.\n",
    "* **0.5 < R2_score < 0.7** il modello è discreto.\n",
    "* **0.7 < R2_score < 0.9** il modello è buono.\n",
    "* **0.9 < R2_score < 1** il modello è ottimo.\n",
    "* **R2_score = 1** molto probabilmente c'è un errore nel modello.\n"
   ]
  },
  {
   "cell_type": "code",
   "execution_count": 6,
   "id": "a573d884",
   "metadata": {},
   "outputs": [
    {
     "data": {
      "text/plain": [
       "0.47398460039317136"
      ]
     },
     "execution_count": 6,
     "metadata": {},
     "output_type": "execute_result"
    }
   ],
   "source": [
    "from sklearn.metrics import r2_score\n",
    "\n",
    "r2_score(Y_test, Y_pred)"
   ]
  },
  {
   "cell_type": "markdown",
   "id": "6f153de4",
   "metadata": {},
   "source": [
    "Il punteggio non è così male per un modello così semplice, proviamo a visualizzare i coefficenti (bias e peso) che il nostro modello ha imparato disegnando la retta da questi rappresentata in un grafico in 2 dimensioni."
   ]
  },
  {
   "cell_type": "code",
   "execution_count": 10,
   "id": "d426aa9b",
   "metadata": {},
   "outputs": [
    {
     "name": "stdout",
     "output_type": "stream",
     "text": [
      "Peso di RM: 9.508002656834291\n",
      "Bias: -37.109604435158374\n"
     ]
    },
    {
     "data": {
      "text/plain": [
       "[<matplotlib.lines.Line2D at 0x1215468b880>]"
      ]
     },
     "execution_count": 10,
     "metadata": {},
     "output_type": "execute_result"
    },
    {
     "data": {
      "image/png": "[encoded data removed]",
      "text/plain": [
       "<Figure size 432x288 with 1 Axes>"
      ]
     },
     "metadata": {
      "needs_background": "light"
     },
     "output_type": "display_data"
    }
   ],
   "source": [
    "import matplotlib.pyplot as plt\n",
    "\n",
    "print(\"Peso di RM: \"+ str(ll.coef_[0]))\n",
    "print(\"Bias: \"+str(ll.intercept_))\n",
    "\n",
    "plt.scatter(X_train, Y_train, c=\"green\",  edgecolor='white', label=\"Train set\")\n",
    "plt.scatter(X_test, Y_test, c=\"blue\",  edgecolor='white', label=\"Test set\")\n",
    "\n",
    "# Nomi delle assi\n",
    "plt.xlabel('Numero medio di stanze [RM]')\n",
    "plt.ylabel('Valore in $1000 [MEDV]')\n",
    "\n",
    "# Posizioniamo la legenda\n",
    "plt.legend(loc='upper left')\n",
    "\n",
    "# Disegniamo la retta che approssima i dati\n",
    "plt.plot(X_test, Y_pred, color='red', linewidth=3)"
   ]
  },
  {
   "cell_type": "markdown",
   "id": "7bc25170",
   "metadata": {},
   "source": [
    "La retta approssima i dati abbastanza bene, l'errore alto è dato in gran parte dagli outliers, ovvero dai valori che si distaccano di molto dagli altri.\n",
    "Per ottenere un modello più preciso, e quindi ridurre l'errore, dobbiamo aggiungere ulteriori features significative."
   ]
  },
  {
   "cell_type": "code",
   "execution_count": null,
   "id": "08413e9b",
   "metadata": {},
   "outputs": [],
   "source": []
  }
 ],
 "metadata": {
  "kernelspec": {
   "display_name": "Python 3 (ipykernel)",
   "language": "python",
   "name": "python3"
  },
  "language_info": {
   "codemirror_mode": {
    "name": "ipython",
    "version": 3
   },
   "file_extension": ".py",
   "mimetype": "text/x-python",
   "name": "python",
   "nbconvert_exporter": "python",
   "pygments_lexer": "ipython3",
   "version": "3.9.5"
  }
 },
 "nbformat": 4,
 "nbformat_minor": 5
}
