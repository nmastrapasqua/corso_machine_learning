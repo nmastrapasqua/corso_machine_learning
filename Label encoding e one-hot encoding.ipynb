{
 "cells": [
  {
   "cell_type": "code",
   "execution_count": 16,
   "id": "78ea8188",
   "metadata": {},
   "outputs": [
    {
     "data": {
      "text/html": [
       "<div>\n",
       "<style scoped>\n",
       "    .dataframe tbody tr th:only-of-type {\n",
       "        vertical-align: middle;\n",
       "    }\n",
       "\n",
       "    .dataframe tbody tr th {\n",
       "        vertical-align: top;\n",
       "    }\n",
       "\n",
       "    .dataframe thead th {\n",
       "        text-align: right;\n",
       "    }\n",
       "</style>\n",
       "<table border=\"1\" class=\"dataframe\">\n",
       "  <thead>\n",
       "    <tr style=\"text-align: right;\">\n",
       "      <th></th>\n",
       "      <th>taglia</th>\n",
       "      <th>colore</th>\n",
       "      <th>prezzo</th>\n",
       "    </tr>\n",
       "  </thead>\n",
       "  <tbody>\n",
       "    <tr>\n",
       "      <th>0</th>\n",
       "      <td>S</td>\n",
       "      <td>bianco</td>\n",
       "      <td>4.99</td>\n",
       "    </tr>\n",
       "    <tr>\n",
       "      <th>1</th>\n",
       "      <td>M</td>\n",
       "      <td>bianco</td>\n",
       "      <td>19.99</td>\n",
       "    </tr>\n",
       "    <tr>\n",
       "      <th>2</th>\n",
       "      <td>XL</td>\n",
       "      <td>bianco</td>\n",
       "      <td>12.49</td>\n",
       "    </tr>\n",
       "    <tr>\n",
       "      <th>3</th>\n",
       "      <td>XL</td>\n",
       "      <td>bianco</td>\n",
       "      <td>14.99</td>\n",
       "    </tr>\n",
       "    <tr>\n",
       "      <th>4</th>\n",
       "      <td>S</td>\n",
       "      <td>bianco</td>\n",
       "      <td>14.99</td>\n",
       "    </tr>\n",
       "  </tbody>\n",
       "</table>\n",
       "</div>"
      ],
      "text/plain": [
       "  taglia  colore  prezzo\n",
       "0      S  bianco    4.99\n",
       "1      M  bianco   19.99\n",
       "2     XL  bianco   12.49\n",
       "3     XL  bianco   14.99\n",
       "4      S  bianco   14.99"
      ]
     },
     "execution_count": 16,
     "metadata": {},
     "output_type": "execute_result"
    }
   ],
   "source": [
    "import numpy as np\n",
    "import pandas as pd\n",
    "shirts = pd.read_csv('data/shirts.csv', index_col=0)\n",
    "shirts.head()"
   ]
  },
  {
   "cell_type": "code",
   "execution_count": 17,
   "id": "2e2a06be",
   "metadata": {},
   "outputs": [
    {
     "data": {
      "text/plain": [
       "array([['S', 'bianco', 4.99],\n",
       "       ['M', 'bianco', 19.99],\n",
       "       ['XL', 'bianco', 12.49],\n",
       "       ['XL', 'bianco', 14.99],\n",
       "       ['S', 'bianco', 14.99]], dtype=object)"
      ]
     },
     "execution_count": 17,
     "metadata": {},
     "output_type": "execute_result"
    }
   ],
   "source": [
    "# Crea un array numpy contenente il dataset\n",
    "X = shirts.values\n",
    "X[:5]"
   ]
  },
  {
   "cell_type": "code",
   "execution_count": 18,
   "id": "ca607b72",
   "metadata": {},
   "outputs": [
    {
     "data": {
      "text/html": [
       "<div>\n",
       "<style scoped>\n",
       "    .dataframe tbody tr th:only-of-type {\n",
       "        vertical-align: middle;\n",
       "    }\n",
       "\n",
       "    .dataframe tbody tr th {\n",
       "        vertical-align: top;\n",
       "    }\n",
       "\n",
       "    .dataframe thead th {\n",
       "        text-align: right;\n",
       "    }\n",
       "</style>\n",
       "<table border=\"1\" class=\"dataframe\">\n",
       "  <thead>\n",
       "    <tr style=\"text-align: right;\">\n",
       "      <th></th>\n",
       "      <th>taglia</th>\n",
       "      <th>colore</th>\n",
       "      <th>prezzo</th>\n",
       "    </tr>\n",
       "  </thead>\n",
       "  <tbody>\n",
       "    <tr>\n",
       "      <th>0</th>\n",
       "      <td>0</td>\n",
       "      <td>bianco</td>\n",
       "      <td>4.99</td>\n",
       "    </tr>\n",
       "    <tr>\n",
       "      <th>1</th>\n",
       "      <td>1</td>\n",
       "      <td>bianco</td>\n",
       "      <td>19.99</td>\n",
       "    </tr>\n",
       "    <tr>\n",
       "      <th>2</th>\n",
       "      <td>3</td>\n",
       "      <td>bianco</td>\n",
       "      <td>12.49</td>\n",
       "    </tr>\n",
       "    <tr>\n",
       "      <th>3</th>\n",
       "      <td>3</td>\n",
       "      <td>bianco</td>\n",
       "      <td>14.99</td>\n",
       "    </tr>\n",
       "    <tr>\n",
       "      <th>4</th>\n",
       "      <td>0</td>\n",
       "      <td>bianco</td>\n",
       "      <td>14.99</td>\n",
       "    </tr>\n",
       "  </tbody>\n",
       "</table>\n",
       "</div>"
      ],
      "text/plain": [
       "   taglia  colore  prezzo\n",
       "0       0  bianco    4.99\n",
       "1       1  bianco   19.99\n",
       "2       3  bianco   12.49\n",
       "3       3  bianco   14.99\n",
       "4       0  bianco   14.99"
      ]
     },
     "execution_count": 18,
     "metadata": {},
     "output_type": "execute_result"
    }
   ],
   "source": [
    "# Taglia e colore sono variabili categoriche. \n",
    "# Taglia è una variabile categorica ordinale poichè si può stabilire un ordinamento\n",
    "# Colore è una variabile categorica nominale poichè non si può stabilire un ordine\n",
    "# Prezzo è una variabile quantitativa continua\n",
    "# Trasformiamo le variabili categoriche in numeri\n",
    "#\n",
    "# Variabili ordinali\n",
    "#\n",
    "# Con pandas\n",
    "size_mapping = {'S': 0, 'M': 1, 'L': 2, 'XL': 3}\n",
    "shirts['taglia'] = shirts['taglia'].map(size_mapping)\n",
    "shirts.head()"
   ]
  },
  {
   "cell_type": "code",
   "execution_count": 19,
   "id": "3f86343a",
   "metadata": {},
   "outputs": [
    {
     "data": {
      "text/plain": [
       "array([[0, 'bianco', 4.99],\n",
       "       [1, 'bianco', 19.99],\n",
       "       [3, 'bianco', 12.49],\n",
       "       [3, 'bianco', 14.99],\n",
       "       [0, 'bianco', 14.99]], dtype=object)"
      ]
     },
     "execution_count": 19,
     "metadata": {},
     "output_type": "execute_result"
    }
   ],
   "source": [
    "# Con numpy\n",
    "# Creaiamo una funzione di mapping\n",
    "fmap = np.vectorize(lambda t:size_mapping[t])\n",
    "# Applichiamo la funzione\n",
    "X[:,0] = fmap(X[:,0])\n",
    "X[:5]"
   ]
  },
  {
   "cell_type": "code",
   "execution_count": 20,
   "id": "258ae8bf",
   "metadata": {},
   "outputs": [
    {
     "data": {
      "text/html": [
       "<div>\n",
       "<style scoped>\n",
       "    .dataframe tbody tr th:only-of-type {\n",
       "        vertical-align: middle;\n",
       "    }\n",
       "\n",
       "    .dataframe tbody tr th {\n",
       "        vertical-align: top;\n",
       "    }\n",
       "\n",
       "    .dataframe thead th {\n",
       "        text-align: right;\n",
       "    }\n",
       "</style>\n",
       "<table border=\"1\" class=\"dataframe\">\n",
       "  <thead>\n",
       "    <tr style=\"text-align: right;\">\n",
       "      <th></th>\n",
       "      <th>taglia</th>\n",
       "      <th>prezzo</th>\n",
       "      <th>colore_bianco</th>\n",
       "      <th>colore_rosso</th>\n",
       "      <th>colore_verde</th>\n",
       "    </tr>\n",
       "  </thead>\n",
       "  <tbody>\n",
       "    <tr>\n",
       "      <th>0</th>\n",
       "      <td>0</td>\n",
       "      <td>4.99</td>\n",
       "      <td>1</td>\n",
       "      <td>0</td>\n",
       "      <td>0</td>\n",
       "    </tr>\n",
       "    <tr>\n",
       "      <th>1</th>\n",
       "      <td>1</td>\n",
       "      <td>19.99</td>\n",
       "      <td>1</td>\n",
       "      <td>0</td>\n",
       "      <td>0</td>\n",
       "    </tr>\n",
       "    <tr>\n",
       "      <th>2</th>\n",
       "      <td>3</td>\n",
       "      <td>12.49</td>\n",
       "      <td>1</td>\n",
       "      <td>0</td>\n",
       "      <td>0</td>\n",
       "    </tr>\n",
       "    <tr>\n",
       "      <th>3</th>\n",
       "      <td>3</td>\n",
       "      <td>14.99</td>\n",
       "      <td>1</td>\n",
       "      <td>0</td>\n",
       "      <td>0</td>\n",
       "    </tr>\n",
       "    <tr>\n",
       "      <th>4</th>\n",
       "      <td>0</td>\n",
       "      <td>14.99</td>\n",
       "      <td>1</td>\n",
       "      <td>0</td>\n",
       "      <td>0</td>\n",
       "    </tr>\n",
       "  </tbody>\n",
       "</table>\n",
       "</div>"
      ],
      "text/plain": [
       "   taglia  prezzo  colore_bianco  colore_rosso  colore_verde\n",
       "0       0    4.99              1             0             0\n",
       "1       1   19.99              1             0             0\n",
       "2       3   12.49              1             0             0\n",
       "3       3   14.99              1             0             0\n",
       "4       0   14.99              1             0             0"
      ]
     },
     "execution_count": 20,
     "metadata": {},
     "output_type": "execute_result"
    }
   ],
   "source": [
    "# Variabile nominale: one-hot encoding\n",
    "#\n",
    "# Con pandas\n",
    "# Creazione di variabili di comodo: dummies variables\n",
    "shirts = pd.get_dummies(shirts, columns=['colore'])\n",
    "shirts.head()"
   ]
  },
  {
   "cell_type": "code",
   "execution_count": 21,
   "id": "40291c9c",
   "metadata": {},
   "outputs": [
    {
     "data": {
      "text/plain": [
       "array([[1.0, 0.0, 0.0, 0, 4.99],\n",
       "       [1.0, 0.0, 0.0, 1, 19.99],\n",
       "       [1.0, 0.0, 0.0, 3, 12.49],\n",
       "       [1.0, 0.0, 0.0, 3, 14.99],\n",
       "       [1.0, 0.0, 0.0, 0, 14.99]], dtype=object)"
      ]
     },
     "execution_count": 21,
     "metadata": {},
     "output_type": "execute_result"
    }
   ],
   "source": [
    "# Con numpy\n",
    "# Dobbiamo utilizzare scikit-learn\n",
    "from sklearn.preprocessing import LabelEncoder, OneHotEncoder\n",
    "from sklearn.compose import ColumnTransformer\n",
    "# Encoding della colonna colore\n",
    "le = LabelEncoder()\n",
    "X[:,1] = le.fit_transform(X[:,1])\n",
    "ct = ColumnTransformer([(\"colore\", OneHotEncoder(), [1])], remainder = 'passthrough')\n",
    "X = ct.fit_transform(X)\n",
    "X[:5]"
   ]
  },
  {
   "cell_type": "code",
   "execution_count": null,
   "id": "526533f7",
   "metadata": {},
   "outputs": [],
   "source": []
  }
 ],
 "metadata": {
  "kernelspec": {
   "display_name": "Python 3 (ipykernel)",
   "language": "python",
   "name": "python3"
  },
  "language_info": {
   "codemirror_mode": {
    "name": "ipython",
    "version": 3
   },
   "file_extension": ".py",
   "mimetype": "text/x-python",
   "name": "python",
   "nbconvert_exporter": "python",
   "pygments_lexer": "ipython3",
   "version": "3.9.5"
  }
 },
 "nbformat": 4,
 "nbformat_minor": 5
}
